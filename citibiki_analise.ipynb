{
  "nbformat": 4,
  "nbformat_minor": 0,
  "metadata": {
    "colab": {
      "provenance": []
    },
    "kernelspec": {
      "name": "python3",
      "display_name": "Python 3"
    },
    "language_info": {
      "name": "python"
    }
  },
  "cells": [
    {
      "cell_type": "code",
      "execution_count": 1,
      "metadata": {
        "id": "kS2qZkESsk51"
      },
      "outputs": [],
      "source": [
        "# Instalar a biblioteca para BigQuery\n",
        "!pip install pandas-gbq --quiet\n",
        "# Importar bibliotecas\n",
        "import pandas as pd\n",
        "import matplotlib.pyplot as plt\n",
        "import seaborn as sns\n",
        "from pandas_gbq import read_gbq"
      ]
    },
    {
      "cell_type": "code",
      "source": [
        "# Consulta SQL para trazer 1000 registros da tabela de viagens\n",
        "project_id = \"Insira aqui o ID do seu projeto\"\n",
        "query = \"\"\"\n",
        "    SELECT *\n",
        "    FROM bigquery-public-data.new_york_citibike.citibike_trips\n",
        "    LIMIT 1000\n",
        "\"\"\"\n",
        "# Importando os dados\n",
        "df = read_gbq(query, project_id=project_id, dialect='standard')\n",
        "# Visualizando os dados\n",
        "df.head()"
      ],
      "metadata": {
        "id": "Tcr8Hq_Ksnux"
      },
      "execution_count": null,
      "outputs": []
    },
    {
      "cell_type": "code",
      "source": [
        "#Verificar dados ausentes\n",
        "df.isnull().sum()\n",
        "# Verificando informações gerais\n",
        "df.info()\n",
        "# Verificando estatisticas descritivas\n",
        "df.describe()\n",
        "#Criando colunas derivadas\n",
        "# Convertendo datas\n",
        "df['starttime'] = pd.to_datetime(df['starttime'])\n",
        "df['stoptime'] = pd.to_datetime(df['stoptime'])\n",
        "# Criando coluna com duração da viagem em minutos\n",
        "df['trip_duration_min'] = (df['stoptime'] - df['starttime']).dt.total_seconds() / 60\n",
        "# Extraindo odia da semana e hora da viagem\n",
        "df['weekday'] = df['starttime'].dt.day_name()\n",
        "df['hour'] = df['starttime'].dt.hour"
      ],
      "metadata": {
        "id": "YZiW1Krds7UN"
      },
      "execution_count": null,
      "outputs": []
    },
    {
      "cell_type": "code",
      "source": [
        "# tempo médio das viagens\n",
        "df['trip_duration_min'].mean()\n",
        "# Horários com mais viagens\n",
        "sns.countplot(x='hour', data=df)\n",
        "plt.title('Número de Viagens por Hora do Dia')\n",
        "plt.xlabel('Hora')\n",
        "plt.ylabel('Número de Viagens')\n",
        "plt.xticks(rotation=45)\n",
        "plt.show()\n",
        "# Dia da semana com mais viagens\n",
        "sns.countplot(x='weekday', data=df, order=['Monday', 'Tuesday', 'Wednesday', 'Thursday', 'Friday', 'Saturday', 'Sunday'])\n",
        "plt.title('Número de Viagens por Dia da Semana')\n",
        "plt.xlabel('Dia')\n",
        "plt.ylabel('Número de Viagens')\n",
        "plt.xticks(rotation=45)\n",
        "plt.show()\n",
        "# Uso por gênero\n",
        "sns.countplot(x='gender', data=df)\n",
        "plt.title('Distribuição por Gênero')\n",
        "plt.xlabel('Gênero (0 = Desconhecido, 1 = Masculino, 2 = Feminino)')\n",
        "plt.ylabel('Número de Viagens')\n",
        "plt.show()\n",
        "#Tempo médio por gênero\n",
        "df.groupby('gender')['trip_duration_min'].mean()"
      ],
      "metadata": {
        "id": "z_8QjC39tAmU"
      },
      "execution_count": null,
      "outputs": []
    }
  ]
}