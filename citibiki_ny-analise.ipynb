# Instalar a biblioteca para BigQuery
!pip install pandas-gbq --quiet
# Importar bibliotecas
import pandas as pd
import matplotlib.pyplot as plt
import seaborn as sns
from pandas_gbq import read_gbq

